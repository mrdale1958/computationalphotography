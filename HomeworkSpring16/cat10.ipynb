{
 "cells": [
  {
   "cell_type": "code",
   "execution_count": 1,
   "metadata": {
    "collapsed": true
   },
   "outputs": [],
   "source": [
    "from PIL import Image\n",
    "cat_pic = Image.open('data/cc_cat.png')\n",
    "cat_pic.show()"
   ]
  },
  {
   "cell_type": "code",
   "execution_count": 2,
   "metadata": {
    "collapsed": false
   },
   "outputs": [],
   "source": [
    "# create a blank image twice as wide as cat_pic\n",
    "mirror_cat = Image.new('RGB',(cat_pic.size[0]*2, cat_pic.size[1]))\n",
    "# paste cat_pic into the left side of the new image\n",
    "mirror_cat.paste( cat_pic,  (0,0,cat_pic.size[0],cat_pic.size[1]))\n",
    "# paste cat_pic into the right side of the new image offset by cat_pic.size[0]\n",
    "mirror_cat.paste( cat_pic,  (cat_pic.size[0],0,cat_pic.size[0]*2,cat_pic.size[1]))\n",
    "# define the height of our slices as 1/10 the height of the image\n",
    "slice_height = int(cat_pic.size[1] / 10)\n",
    "# modify the odd numbered of 10 slices\n",
    "for horizontal_slice in range(1,10,2):\n",
    "    # define the slice bounding box\n",
    "    left_edge = 0\n",
    "    right_edge = cat_pic.size[0]\n",
    "    top_edge = horizontal_slice * slice_height\n",
    "    bottom_edge = top_edge + slice_height\n",
    "    slice_box = (left_edge,top_edge,right_edge,bottom_edge)\n",
    "    # grab the current slice\n",
    "    cat_slice = cat_pic.crop(slice_box)\n",
    "    # rotate the current slice\n",
    "    rot_cat_slice = cat_slice.rotate(180)\n",
    "    # flip the current slice\n",
    "    flip_cat_slice = cat_slice.transpose(Image.FLIP_TOP_BOTTOM)\n",
    "    # paste the rotated slice in the left part of the new image\n",
    "    mirror_cat.paste(rot_cat_slice,slice_box)\n",
    "    # paste the flipped slice in the right part of the new image\n",
    "    slice_box =  (right_edge,top_edge,right_edge*2,bottom_edge)\n",
    "    mirror_cat.paste(flip_cat_slice,slice_box)\n",
    "mirror_cat.show()"
   ]
  },
  {
   "cell_type": "code",
   "execution_count": 11,
   "metadata": {
    "collapsed": false
   },
   "outputs": [
    {
     "ename": "TypeError",
     "evalue": "'tuple' object does not support item assignment",
     "output_type": "error",
     "traceback": [
      "\u001b[0;31m---------------------------------------------------------------------------\u001b[0m",
      "\u001b[0;31mTypeError\u001b[0m                                 Traceback (most recent call last)",
      "\u001b[0;32m<ipython-input-11-78d9bb379f3e>\u001b[0m in \u001b[0;36m<module>\u001b[0;34m()\u001b[0m\n\u001b[0;32m----> 1\u001b[0;31m \u001b[0mslice_box\u001b[0m\u001b[0;34m[\u001b[0m\u001b[0;36m0\u001b[0m\u001b[0;34m]\u001b[0m \u001b[0;34m=\u001b[0m \u001b[0;36m9\u001b[0m\u001b[0;34m\u001b[0m\u001b[0m\n\u001b[0m",
      "\u001b[0;31mTypeError\u001b[0m: 'tuple' object does not support item assignment"
     ]
    }
   ],
   "source": [
    "slice_box[0] = 9"
   ]
  },
  {
   "cell_type": "code",
   "execution_count": null,
   "metadata": {
    "collapsed": true
   },
   "outputs": [],
   "source": []
  }
 ],
 "metadata": {
  "kernelspec": {
   "display_name": "Python 3",
   "language": "python",
   "name": "python3"
  },
  "language_info": {
   "codemirror_mode": {
    "name": "ipython",
    "version": 3
   },
   "file_extension": ".py",
   "mimetype": "text/x-python",
   "name": "python",
   "nbconvert_exporter": "python",
   "pygments_lexer": "ipython3",
   "version": "3.5.1"
  }
 },
 "nbformat": 4,
 "nbformat_minor": 0
}
