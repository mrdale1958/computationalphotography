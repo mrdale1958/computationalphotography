{
 "cells": [
  {
   "cell_type": "markdown",
   "metadata": {},
   "source": [
    "### Homework Week 3\n",
    "Computational Photography\n",
    "This assignment is mostly about branching and looping and function parameters.\n"
   ]
  },
  {
   "cell_type": "markdown",
   "metadata": {},
   "source": [
    "If we list all the natural numbers below 10 that are multiples of 3 or 5, we get 3, 5, 6 and 9. The sum of these multiples is 23.\n",
    "\n",
    "Find the sum of all the multiples of 3 or 5 below 1000."
   ]
  },
  {
   "cell_type": "code",
   "execution_count": null,
   "metadata": {
    "collapsed": false
   },
   "outputs": [],
   "source": [
    "def is_multiple_of_3(number):\n",
    "    if (number % 3) == 0:\n",
    "        return True\n",
    "    return False\n",
    "def is_multiple_of_5(number):\n",
    "    if (number % 5) == 0:\n",
    "        return True\n",
    "    return False\n",
    "\n",
    "total = 0\n",
    "for num in range(1,1000,1):\n",
    "    if (is_multiple_of_3(num) or is_multiple_of_5(num)):\n",
    "        total += num # total = total + num\n",
    "print total\n",
    "        "
   ]
  },
  {
   "cell_type": "markdown",
   "metadata": {},
   "source": [
    "Write a program that prints the numbers from 1 to 100. But for multiples of three print “Fizz” instead of the number and for the multiples of five print “Buzz”. For numbers which are multiples of both three and five print “FizzBuzz”."
   ]
  },
  {
   "cell_type": "code",
   "execution_count": null,
   "metadata": {
    "collapsed": false
   },
   "outputs": [],
   "source": [
    "def fizzbuzz(max_num):\n",
    "    \"\"\"Your code goes below here\"\"\"\n",
    "    \n",
    "    \n",
    "fizzbuzz(100)    "
   ]
  },
  {
   "cell_type": "markdown",
   "metadata": {},
   "source": [
    "Write a fibonacci() function that takes n as its argument and returns the nth fibonacci #\n",
    "\n",
    "**The Finbonacci sequence works like this:**\n",
    "* F(0) = 0\n",
    "* F(1) = 1\n",
    "* F(n) = F(n-1) + F(n-2)  *This is commonly called recursion. You can do this exercise using recurssion or just loops* \n",
    "*  (So F(2) = F(1) + F(0) = 1 + 0 = 1, \n",
    "*   F(3) = F(2) + F(1) = 1 + 1 = 2,\n",
    "*   ...)"
   ]
  },
  {
   "cell_type": "code",
   "execution_count": null,
   "metadata": {
    "collapsed": false
   },
   "outputs": [],
   "source": [
    "def fibonacci(n):\n",
    "    \"\"\"Your code goes below here\"\"\"\n",
    "\n",
    "# testing\n",
    "# 0\n",
    "print( fibonacci(0))\n",
    "\n",
    "# 1\n",
    "print( fibonacci(1))\n",
    "\n",
    "# 1\n",
    "print( fibonacci(2))\n",
    "\n",
    "# 2\n",
    "print( fibonacci(3))\n",
    "\n",
    "# 3\n",
    "print( fibonacci(4))\n",
    "\n",
    "# 5\n",
    "print( fibonacci(5))\n",
    "\n",
    "# 8\n",
    "print( fibonacci(6))\n",
    "\n",
    "# 13\n",
    "print( fibonacci(7))\n",
    "\n",
    "# 21\n",
    "print( fibonacci(8))\n",
    "\n",
    "# 34\n",
    "print( fibonacci(9))\n",
    "\n",
    "# 55\n",
    "print( fibonacci(10))\n",
    "\n",
    "# 6765\n",
    "print( fibonacci(20))\n",
    "\n",
    "\n",
    "\n",
    "\n",
    "\n",
    "\n"
   ]
  },
  {
   "cell_type": "markdown",
   "metadata": {},
   "source": [
    "For the rest you are going to make extensive use of the [PIL Documentation](http://pillow.readthedocs.org/en/latest/index.html)"
   ]
  },
  {
   "cell_type": "markdown",
   "metadata": {
    "collapsed": true
   },
   "source": [
    "Image blur\n",
    "read data/cc_cat.png in as a PIL Image (this is the source)\n",
    "make a new blank image the same size as the original (this will hold the result\n",
    "use load() to get the pixel arrays for both images\n",
    "blur the contents of the source image by averaging the 8 values around each pixel and writing that value into the corresponding pixel in the result image\n",
    "Since the source is a color image, \"averaging\" a pixel value involves getting the average value of each R,G,B value for the pixel\n",
    "For pixels that don't have 8 neighbors, just average the neighbors it does have"
   ]
  },
  {
   "cell_type": "code",
   "execution_count": null,
   "metadata": {
    "collapsed": false
   },
   "outputs": [],
   "source": [
    "from PIL import Image\n",
    "\n",
    "def blur(pixel_array):\n",
    "    red_sum = 0\n",
    "    green_sum = 0\n",
    "    blue_sum = 0\n",
    "    pixel_count = 0\n",
    "    for pixel in pixel_array:\n",
    "        red_sum += pixel[0]\n",
    "        green_sum += pixel[1]\n",
    "        blue_sum += pixel[2]\n",
    "        pixel_count += 1\n",
    "    if pixel_count == 0:\n",
    "        return (0,0,0)\n",
    "    else:\n",
    "        return (red_sum/pixel_count, green_sum/pixel_count, blue_sum/pixel_count )\n",
    "    \n",
    "        \n",
    "cat_pic = Image.open(\"data/cc_cat.png\")\n",
    "w,h = cat_pic.size\n",
    "blurry_cat = Image.new('RGB', size=(cat_pic.width, cat_pic.height))\n",
    "pixels = cat_pic.load()\n",
    "blurry_pixels = blurry_cat.load()\n",
    "for row in range(cat_pic.height):\n",
    "    for col in range(cat_pic.width):\n",
    "        # define neighbors as the array of pixels surrounding the current pixel. \n",
    "        # \n",
    "        \n",
    "        blurry_pixels[col,row] = blur(neighbors)\n",
    "blurry_cat.show()\n"
   ]
  },
  {
   "cell_type": "markdown",
   "metadata": {},
   "source": [
    "**Kaliedescope**\n",
    "\n",
    "- Add comments for each line of make_triangle\n",
    "- Add a comment block describing what the function does and how it does it.\n"
   ]
  },
  {
   "cell_type": "code",
   "execution_count": null,
   "metadata": {
    "collapsed": false
   },
   "outputs": [],
   "source": [
    "import numpy as np\n",
    "from PIL import Image, ImageDraw, ImageOps\n",
    "filename = \"data/cc_cat.png\"\n",
    "import IPython.core.display\n",
    "testimg = Image.open(filename)\n",
    "\n",
    "\n",
    "def make_triangle(start_img, save=False):\n",
    "    \"\"\"Function description goes here\"\"\"\n",
    "\n",
    "    \n",
    "    w, h = start_img.size\n",
    "    \n",
    "    inset = int((max(w,h) - min(w,h)) / 2)\n",
    "    w, h = start_img.size\n",
    "    sqrimg = start_img.crop((inset, inset, w-inset, w-inset))\n",
    "    \n",
    "    w, h = sqrimg.size\n",
    "    \n",
    "    mask = Image.new('1', (w,h))\n",
    "    draw = ImageDraw.Draw(mask) \n",
    "    \n",
    "    t_height = int(w/2 * np.tan(60))\n",
    "\n",
    "    triangle_negative = [(0,h), (int(w/2), t_height), (w,h), (0,h)]\n",
    "    draw.polygon(triangle_negative, fill=255)\n",
    "    output = ImageOps.fit(sqrimg, mask.size, centering=(0.5, 0.5))\n",
    "    output.putalpha(mask)\n",
    "\n",
    "    output = output.crop((0,int(t_height)-15, w, h))\n",
    "    if save:\n",
    "        path = 'data/triangle_{}'.format(filename.split('/')[1])\n",
    "        output.save(path)\n",
    "        return output, path\n",
    "    return output\n",
    "\n",
    "\n",
    "# testing\n",
    "img, path = make_triangle(testimg, True)\n",
    "IPython.core.display.Image(path)"
   ]
  },
  {
   "cell_type": "markdown",
   "metadata": {},
   "source": [
    "Modify make_triangle from above to accept an optional argument that sets the vertical location of the triangle. The def statement has already been set up to accept the new argument.\n"
   ]
  },
  {
   "cell_type": "code",
   "execution_count": null,
   "metadata": {
    "collapsed": false
   },
   "outputs": [],
   "source": [
    "import time\n",
    "import numpy as np\n",
    "from PIL import Image, ImageDraw, ImageOps\n",
    "filename = \"data/cc_cat.png\"\n",
    "from IPython.display import display, clear_output\n",
    "testimg = Image.open(filename)\n",
    "\n",
    "# note this def is different from the last one. use this one for this exercise\n",
    "def make_triangle_vertical(start_img, vertical_pos=300, save=False):\n",
    "    \"\"\"Function description goes here\"\"\"\n",
    "    \"\"\"Your code goes here. Start by copying your make_triagle code from above\"\"\"\n",
    "\n",
    "\n",
    "    \n",
    "# testing\n",
    "# When you run the cell this code will let you see a sequence of images, one every two seconds\n",
    "def animate_cat(cat_image):\n",
    "    time.sleep(2)\n",
    "    display(cat_image)\n",
    "    clear_output(wait=True)\n",
    "    \n",
    "img, path = make_triangle_vertical(testimg, vertical_pos=100, save=True)\n",
    "animate_cat(img)\n",
    "img, path = make_triangle_vertical(testimg, vertical_pos=200, save=True)\n",
    "animate_cat(img)\n",
    "img, path = make_triangle_vertical(testimg, vertical_pos=300, save=True)\n",
    "animate_cat(img)\n",
    "img, path = make_triangle_vertical(testimg, vertical_pos=323, save=True)\n",
    "animate_cat(img)\n",
    "img, path = make_triangle_vertical(testimg, vertical_pos=50, save=True)\n",
    "animate_cat(img)\n",
    "img, path = make_triangle_vertical(testimg, save=True)\n",
    "animate_cat(img)\n",
    "\n"
   ]
  },
  {
   "cell_type": "markdown",
   "metadata": {},
   "source": [
    "Modify make_triangle to accept an optional argument that sets the horizontal location of the triangle as well"
   ]
  },
  {
   "cell_type": "code",
   "execution_count": null,
   "metadata": {
    "collapsed": true
   },
   "outputs": [],
   "source": [
    "import time\n",
    "import numpy as np\n",
    "from PIL import Image, ImageDraw, ImageOps\n",
    "filename = \"data/cc_cat.png\"\n",
    "from IPython.display import display, clear_output\n",
    "testimg = Image.open(filename)\n",
    "\n",
    "# note this def is different from the last one. use this one for this exercise\n",
    "def make_triangle_vertical_horizontal(start_img, vertical_pos=0, horizontal_pos=0, save=False):\n",
    "    \"\"\"Function description goes here\"\"\"\n",
    "    \"\"\"Your code goes here. Start by copying your make_triangle_vertical code from above\"\"\"\n",
    "\n",
    "\n",
    "    \n",
    "# testing\n",
    "# When you run the cell this code will let you see a sequence of images, one every two seconds\n",
    "\n",
    "\n",
    "def animate_cat(cat_image):\n",
    "    time.sleep(2)\n",
    "    display(cat_image)\n",
    "    clear_output(wait=True)\n",
    "    \n",
    "img, path = make_triangle_vertical_horizontal(testimg, vertical_pos=100, horizontal_pos=200, save=True)\n",
    "animate_cat(img)\n",
    "img, path = make_triangle_vertical_horizontal(testimg, vertical_pos=200, horizontal_pos=276, save=True)\n",
    "animate_cat(img)\n",
    "img, path = make_triangle_vertical_horizontal(testimg, vertical_pos=300, horizontal_pos=100, save=True)\n",
    "animate_cat(img)\n",
    "img, path = make_triangle_vertical_horizontal(testimg, vertical_pos=323, horizontal_pos=200, save=True)\n",
    "animate_cat(img)\n",
    "img, path = make_triangle_vertical_horizontal(testimg, vertical_pos=50, horizontal_pos=30, save=True)\n",
    "animate_cat(img)\n",
    "\n"
   ]
  },
  {
   "cell_type": "markdown",
   "metadata": {},
   "source": [
    "Stretch: Modify make_triangle to accept an optional argument that sets the rotation of the triangle. This could be an angle or a direction (up, down, left, right)"
   ]
  },
  {
   "cell_type": "code",
   "execution_count": null,
   "metadata": {
    "collapsed": true
   },
   "outputs": [],
   "source": [
    "import time\n",
    "import numpy as np\n",
    "from PIL import Image, ImageDraw, ImageOps\n",
    "filename = \"data/cc_cat.png\"\n",
    "from IPython.display import display, clear_output\n",
    "testimg = Image.open(filename)\n",
    "\n",
    "# note this def line is incomplete you will need to define the parameter list\n",
    "def make_triangle_sing_and_dance( # need parameter list in here ):\n",
    "    \"\"\"Function description goes here\"\"\"\n",
    "    \"\"\"Your code goes here. Start by copying your make_triangle_vertical_horizontal code from above\"\"\"\n",
    "\n",
    "\n",
    "\n",
    "\n",
    "# testing\n",
    "# When you run the cell this code will let you see a sequence of images, one every two seconds\n",
    "\n",
    "\n",
    "def animate_cat(cat_image):\n",
    "    time.sleep(2)\n",
    "    display(cat_image)\n",
    "    clear_output(wait=True)\n",
    "    \n",
    "img, path = make_triangle_sing_and_dance(testimg, vertical_pos=300, horizontal_pos=140, rotation=0, save=True)\n",
    "animate_cat(img)\n",
    "img, path = make_triangle_sing_and_dance(testimg, vertical_pos=300, horizontal_pos=140, rotation=180, save=True)\n",
    "animate_cat(img)\n",
    "img, path = make_triangle_sing_and_dance(testimg, vertical_pos=300, horizontal_pos=140, rotation=90, save=True)\n",
    "animate_cat(img)\n",
    "img, path = make_triangle_sing_and_dance(testimg, vertical_pos=323, horizontal_pos=140, rotation=45, save=True)\n",
    "animate_cat(img)\n",
    "img, path = make_triangle_sing_and_dance(testimg, vertical_pos=50, horizontal_pos=30, rotation=45, save=True)\n",
    "animate_cat(img)\n",
    "\n"
   ]
  }
 ],
 "metadata": {
  "kernelspec": {
   "display_name": "Python 3",
   "language": "python",
   "name": "python3"
  },
  "language_info": {
   "codemirror_mode": {
    "name": "ipython",
    "version": 3
   },
   "file_extension": ".py",
   "mimetype": "text/x-python",
   "name": "python",
   "nbconvert_exporter": "python",
   "pygments_lexer": "ipython3",
   "version": "3.5.1"
  }
 },
 "nbformat": 4,
 "nbformat_minor": 0
}
